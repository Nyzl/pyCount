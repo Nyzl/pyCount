{
 "cells": [
  {
   "cell_type": "code",
   "execution_count": null,
   "metadata": {
    "collapsed": true
   },
   "outputs": [],
   "source": [
    "# from bs4 import BeautifulSoup as bs\n",
    "from urllib.request import urlopen\n",
    "import re\n",
    "\n",
    "\n",
    "var = input(\"Enter a page: \")\n",
    "\n",
    "page = urlopen(var).read()\n",
    "\n",
    "soup = bs(page,'html.parser')\n",
    "title = soup.title.string\n",
    "title = title.strip()\n",
    "#guid = soup.find(\"meta\", content_=\"cab-guid\")\n",
    "\n",
    "soup = soup.find(\"div\", class_=\"articleContent\")\n",
    "content = soup.get_text()\n",
    "\n",
    "def wordcount(value):\n",
    "    # Find all non-whitespace patterns.\n",
    "    list = re.findall(\"(\\S+)\", value)\n",
    "    # Return length of resulting list.\n",
    "    return len(list)\n",
    "\n",
    "value = content\n",
    "print(title + \"    \" + str(wordcount(value)))\n",
    "#print(guid)\n",
    "print(content)"
   ]
  }
 ],
 "metadata": {
  "kernelspec": {
   "display_name": "Python 3",
   "language": "python",
   "name": "python3"
  },
  "language_info": {
   "codemirror_mode": {
    "name": "ipython",
    "version": 3
   },
   "file_extension": ".py",
   "mimetype": "text/x-python",
   "name": "python",
   "nbconvert_exporter": "python",
   "pygments_lexer": "ipython3",
   "version": "3.5.1"
  }
 },
 "nbformat": 4,
 "nbformat_minor": 0
}
